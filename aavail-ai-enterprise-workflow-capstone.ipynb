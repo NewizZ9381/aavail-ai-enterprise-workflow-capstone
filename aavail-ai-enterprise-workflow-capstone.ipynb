{
 "cells": [
  {
   "cell_type": "markdown",
   "metadata": {},
   "source": [
    "# CASE STUDY - AAVIAL AI Enterprise Workflow Capstone\n",
    "\n",
    "You will be building your own workflow template in this tutorial.  You already have a Dockerfile and a basic Flask application to build an API.  Lets combine what you have learned about logging to build a ``workflow-template`` that can be used to deploy models in a way that facilitates performance monitoring.\n",
    "\n",
    "There are three main parts to this case study.\n",
    "\n",
    "1. Write unit tests for a logger and a logging API endpoint\n",
    "2. Add logging to your Docker container\n",
    "3. Add an API endpoint for logging\n",
    "4. Make sure all tests pass\n",
    "5. Create model performance investigative tooling\n",
    "6. Swap out the iris data for the AAVAIL churn data\n",
    "\n",
    "You may want to eventually rename the directory because in this case-study you will swap out the iris data for `aavail-target.csv`.  It reality you will eventually want a library of workflow templates to work from and the naming convention you decide on can help with organization.  This notebook should reside in that source directory regardless of the name.  We suggest that you go through all of the tasks **first** using the iris data **then** copy the template to a new folder and make it work for the AAVAIL churn data.  Eventually you will want a suite of workflow templates that you will be able to select from."
   ]
  },
  {
   "cell_type": "code",
   "execution_count": 34,
   "metadata": {},
   "outputs": [],
   "source": [
    "import os\n",
    "import sys\n",
    "import csv\n",
    "import requests\n",
    "from collections import Counter\n",
    "from datetime import date\n",
    "from ast import literal_eval\n",
    "import numpy as np\n",
    "import pandas as pd\n",
    "import matplotlib.pyplot as plt\n",
    "\n",
    "import time\n",
    "\n",
    "from model import model_load\n",
    "from model import model_predict\n",
    "\n",
    "from sklearn.model_selection import train_test_split, GridSearchCV\n",
    "from sklearn.pipeline import Pipeline\n",
    "from sklearn.ensemble import RandomForestRegressor, GradientBoostingRegressor\n",
    "from sklearn.tree import DecisionTreeRegressor\n",
    "from sklearn.preprocessing import StandardScaler\n",
    "\n",
    "from sklearn.metrics import mean_absolute_error, mean_squared_error, r2_score\n",
    "\n",
    "from cslib import fetch_ts, engineer_features\n",
    "\n",
    "%matplotlib inline"
   ]
  },
  {
   "cell_type": "markdown",
   "metadata": {},
   "source": [
    "## Getting started\n",
    "\n",
    "The ``workflow-template.zip`` is a workflow template.  Unpack the directory in a location where you would like the source code to exist.  Leaving out the ``static`` directory that contains CSS and JavaScript to render a landing page, the important pieces are shown in the following tree.\n",
    "\n",
    "```\n",
    "├── app.py\n",
    "├── cslib.py\n",
    "├── Dockerfile\n",
    "├── logger.py\n",
    "├── model.py\n",
    "├── README.rst\n",
    "├── requirements.txt\n",
    "├── run-tests.py\n",
    "├── templates\n",
    "│   ├── base.html\n",
    "│   ├── dashboard.html\n",
    "│   ├── index.html\n",
    "│   └── running.html\n",
    "└── unittests\n",
    "    ├── ApiTests.py\n",
    "    ├── __init__.py\n",
    "    ├── ModelTests.py\n",
    "```\n",
    "\n",
    "If you plan on modifying the HTML website you will need to modify the files in ``templates``.  The rest of the files you should be familiar with at this point.\n",
    "\n",
    "We will be working with an Flask API to interact with our model. In order to access the different endpoints of this API make sure the app is running. Open a new command prompt and run the app with the command :\n",
    "\n",
    "\n",
    "```\n",
    "python path/to/working/directory/app.py -d\n",
    "```"
   ]
  },
  {
   "cell_type": "markdown",
   "metadata": {},
   "source": [
    "## TASK 1: Write units test for a logger\n",
    "\n",
    "1. Using `model.py` and `./unittests/ModelTests.py` as an example complete `logger.py` and \n",
    "`./unittests/LoggerTests.py`.\n",
    "2. Modify the files so that there are at a minimum the following tests:\n",
    " \n",
    "    * ensure predict log is automatically created\n",
    "    * ensure train log is automatically created\n",
    "    * ensure that content can be retrieved from predict log file\n",
    "    * ensure that content can be retrieved from train log file\n",
    "    \n",
    "> IMPORTANT: when writing to a log file from a unit test you will want to ensure that you do not modify or delete existing 'production' logs.  You can test your function with the following code (although it is likely easier to work directly in a terminal)."
   ]
  },
  {
   "cell_type": "code",
   "execution_count": 10,
   "metadata": {},
   "outputs": [
    {
     "name": "stderr",
     "output_type": "stream",
     "text": [
      "....\n",
      "----------------------------------------------------------------------\n",
      "Ran 4 tests in 0.030s\n",
      "\n",
      "OK\n"
     ]
    }
   ],
   "source": [
    "!python ./unittests/LoggerTests.py"
   ]
  },
  {
   "cell_type": "markdown",
   "metadata": {},
   "source": [
    "## TASK 2: Add an API endpoint for logging\n",
    "\n",
    "In addition to the `predict` and `train` endpoints, create a third endpoint that returns \n",
    "logs.  Remember that there are `train` and `predict` log files and that they are set up \n",
    "to create new files each month.  You will need to ensure that your endpoint can accommodate this and the best way to ensure this is to **first write the unit tests** then write the code.\n",
    "\n",
    "Flask has several functions to help with the sending of files. One example is [send_from_directory](https://flask.palletsprojects.com/en/1.1.x/api/#flask.send_from_directory)."
   ]
  },
  {
   "cell_type": "code",
   "execution_count": 11,
   "metadata": {},
   "outputs": [
    {
     "name": "stderr",
     "output_type": "stream",
     "text": [
      "....\n",
      "----------------------------------------------------------------------\n",
      "Ran 4 tests in 5.520s\n",
      "\n",
      "OK\n"
     ]
    }
   ],
   "source": [
    "# The API is ready we can test it. We invite you to take a close look into the ApiTests.py script.\n",
    "!python ./unittests/ApiTests.py"
   ]
  },
  {
   "cell_type": "markdown",
   "metadata": {},
   "source": [
    "### SOLUTION NOTE\n",
    "\n",
    "We can now access the logs through the API"
   ]
  },
  {
   "cell_type": "code",
   "execution_count": 12,
   "metadata": {},
   "outputs": [
    {
     "name": "stdout",
     "output_type": "stream",
     "text": [
      "unique_id,timestamp,x_shape,eval_test,model_version,model_version_note,runtime\r",
      "\r\n",
      "a288a6a6-8f5e-47e5-b94c-4ee746ddb0de,1610266371.87012,\"(100, 10)\",{'rmse': 0.5},0.1,test model,00:00:01\r",
      "\r\n",
      "739ea33c-9b31-4977-8389-05e186970a3c,1610266371.87012,\"(100, 10)\",{'rmse': 0.5},0.1,test model,00:00:01\r",
      "\r\n",
      "fc19a4e2-36ae-4ec4-a136-387579f654eb,1610266413.6052504,\"(900, 4)\",\"{'0.0': {'precision': 0.8347107438016529, 'recall': 0.9439252336448598, 'f1-score': 0.8859649122807018, 'support': 214}, '1.0': {'precision': 0.7818181818181819, 'recall': 0.5180722891566265, 'f1-score': 0.6231884057971014, 'support': 83}, 'accuracy': 0.8249158249158249, 'macro avg': {'precision': 0.8082644628099174, 'recall': 0.7309987614007432, 'f1-score': 0.7545766590389016, 'support': 297}, 'weighted avg': {'precision': 0.819929320755767, 'recall': 0.8249158249158249, 'f1-score': 0.8125290535664297, 'support': 297}}\",0.1,RF on AAVAIL churn,000:00:05\r",
      "\r\n",
      "\n"
     ]
    }
   ],
   "source": [
    "r = requests.get('http://127.0.0.1:8081/logs/train-test.log')\n",
    "print(r.text)"
   ]
  },
  {
   "cell_type": "markdown",
   "metadata": {},
   "source": [
    "## TASK 3: Make sure all tests pass\n",
    "\n",
    "You have been working on specific suites of unit tests.  It is a best practice to double-check that all tests pass after making major changes like the ones you have just completed.\n",
    "\n",
    "> make sure you modify the `./unittests/__init__.py` so that the LoggerTest suite is also included when running all tests."
   ]
  },
  {
   "cell_type": "code",
   "execution_count": 31,
   "metadata": {},
   "outputs": [
    {
     "name": "stdout",
     "output_type": "stream",
     "text": [
      "... test flag on\n",
      "...... subseting data\n",
      "...... subseting countries\n",
      "data\\cs-train\\ts-data\n",
      "... loading ts data from files\n",
      "... saving test version of model: models\\test-all-0_1.joblib\n",
      "... saving test version of model: models\\test-united_kingdom-0_1.joblib\n",
      "C:\\Users\\NewizZ\\Workshop\\aavail-ai-enterprise-workflow-capstone\\data\\cs-train\\ts-data\n",
      "... loading ts data from files\n",
      "C:\\Users\\NewizZ\\Workshop\\aavail-ai-enterprise-workflow-capstone\\data\\cs-train\\ts-data\n",
      "... loading ts data from files\n",
      "2018-08-01\n"
     ]
    },
    {
     "name": "stderr",
     "output_type": "stream",
     "text": [
      "........C:\\Users\\NewizZ\\miniconda3\\envs\\tutorial\\lib\\site-packages\\sklearn\\model_selection\\_search.py:821: FutureWarning: The parameter 'iid' is deprecated in 0.22 and will be removed in 0.24.\n",
      "  warnings.warn(\n",
      "C:\\Users\\NewizZ\\miniconda3\\envs\\tutorial\\lib\\site-packages\\sklearn\\model_selection\\_search.py:821: FutureWarning: The parameter 'iid' is deprecated in 0.22 and will be removed in 0.24.\n",
      "  warnings.warn(\n",
      "C:\\Users\\NewizZ\\miniconda3\\envs\\tutorial\\lib\\site-packages\\sklearn\\model_selection\\_search.py:821: FutureWarning: The parameter 'iid' is deprecated in 0.22 and will be removed in 0.24.\n",
      "  warnings.warn(\n",
      "C:\\Users\\NewizZ\\miniconda3\\envs\\tutorial\\lib\\site-packages\\sklearn\\model_selection\\_search.py:821: FutureWarning: The parameter 'iid' is deprecated in 0.22 and will be removed in 0.24.\n",
      "  warnings.warn(\n",
      ".C:\\Users\\NewizZ\\miniconda3\\envs\\tutorial\\lib\\site-packages\\sklearn\\base.py:313: UserWarning: Trying to unpickle estimator StandardScaler from version 0.22.1 when using version 0.22.2.post1. This might lead to breaking code or invalid results. Use at your own risk.\n",
      "  warnings.warn(\n",
      "C:\\Users\\NewizZ\\miniconda3\\envs\\tutorial\\lib\\site-packages\\sklearn\\base.py:313: UserWarning: Trying to unpickle estimator DecisionTreeRegressor from version 0.22.1 when using version 0.22.2.post1. This might lead to breaking code or invalid results. Use at your own risk.\n",
      "  warnings.warn(\n",
      "C:\\Users\\NewizZ\\miniconda3\\envs\\tutorial\\lib\\site-packages\\sklearn\\base.py:313: UserWarning: Trying to unpickle estimator RandomForestRegressor from version 0.22.1 when using version 0.22.2.post1. This might lead to breaking code or invalid results. Use at your own risk.\n",
      "  warnings.warn(\n",
      "C:\\Users\\NewizZ\\miniconda3\\envs\\tutorial\\lib\\site-packages\\sklearn\\base.py:313: UserWarning: Trying to unpickle estimator Pipeline from version 0.22.1 when using version 0.22.2.post1. This might lead to breaking code or invalid results. Use at your own risk.\n",
      "  warnings.warn(\n",
      "C:\\Users\\NewizZ\\miniconda3\\envs\\tutorial\\lib\\site-packages\\sklearn\\base.py:313: UserWarning: Trying to unpickle estimator GridSearchCV from version 0.22.1 when using version 0.22.2.post1. This might lead to breaking code or invalid results. Use at your own risk.\n",
      "  warnings.warn(\n",
      "..\n",
      "----------------------------------------------------------------------\n",
      "Ran 11 tests in 71.826s\n",
      "\n",
      "OK\n"
     ]
    }
   ],
   "source": [
    "!python run-tests.py"
   ]
  },
  {
   "cell_type": "markdown",
   "metadata": {},
   "source": [
    "## TASK 4: Create model performance investigative tooling\n",
    "\n",
    "There are a lot of convenience functions you could create here.  Create them directly in this notebook or create them as scripts that you may call from this notebook.  \n",
    "\n",
    "First write a script that accomplishes the following:\n",
    "\n",
    "* train one model, then select another type of machine learning model and train again,  ensuring that each has separate version numbers.\n",
    "* simulate a couple of hundred predictions for each model.\n",
    "\n",
    "At minimum create a tablular summary and/or a simple plot that accomplishes the following:\n",
    "\n",
    "1. Compare model performance for the two models\n",
    "2. Determine if there was any drift from the first model to the second using a novelty detection algorithm."
   ]
  },
  {
   "cell_type": "code",
   "execution_count": 33,
   "metadata": {
    "scrolled": true
   },
   "outputs": [
    {
     "name": "stdout",
     "output_type": "stream",
     "text": [
      "C:\\Users\\NewizZ\\Workshop\\aavail-ai-enterprise-workflow-capstone\\data\\cs-train\\ts-data\n",
      "... loading ts data from files\n",
      "... saving model: models\\sl-all-0_1.joblib\n",
      "... saving model: models\\sl-eire-0_1.joblib\n",
      "... saving model: models\\sl-france-0_1.joblib\n",
      "... saving model: models\\sl-germany-0_1.joblib\n",
      "... saving model: models\\sl-hong_kong-0_1.joblib\n",
      "... saving model: models\\sl-netherlands-0_1.joblib\n",
      "... saving model: models\\sl-norway-0_1.joblib\n",
      "... saving model: models\\sl-portugal-0_1.joblib\n",
      "... saving model: models\\sl-singapore-0_1.joblib\n",
      "... saving model: models\\sl-spain-0_1.joblib\n",
      "... saving model: models\\sl-united_kingdom-0_1.joblib\n",
      "C:\\Users\\NewizZ\\Workshop\\aavail-ai-enterprise-workflow-capstone\\data\\cs-train\\ts-data\n",
      "... loading ts data from files\n",
      "model training complete.\n"
     ]
    },
    {
     "name": "stderr",
     "output_type": "stream",
     "text": [
      "C:\\Users\\NewizZ\\miniconda3\\envs\\tutorial\\lib\\site-packages\\sklearn\\model_selection\\_search.py:821: FutureWarning: The parameter 'iid' is deprecated in 0.22 and will be removed in 0.24.\n",
      "  warnings.warn(\n",
      "C:\\Users\\NewizZ\\miniconda3\\envs\\tutorial\\lib\\site-packages\\sklearn\\model_selection\\_search.py:821: FutureWarning: The parameter 'iid' is deprecated in 0.22 and will be removed in 0.24.\n",
      "  warnings.warn(\n",
      "C:\\Users\\NewizZ\\miniconda3\\envs\\tutorial\\lib\\site-packages\\sklearn\\model_selection\\_search.py:821: FutureWarning: The parameter 'iid' is deprecated in 0.22 and will be removed in 0.24.\n",
      "  warnings.warn(\n",
      "C:\\Users\\NewizZ\\miniconda3\\envs\\tutorial\\lib\\site-packages\\sklearn\\model_selection\\_search.py:821: FutureWarning: The parameter 'iid' is deprecated in 0.22 and will be removed in 0.24.\n",
      "  warnings.warn(\n",
      "C:\\Users\\NewizZ\\miniconda3\\envs\\tutorial\\lib\\site-packages\\sklearn\\model_selection\\_search.py:821: FutureWarning: The parameter 'iid' is deprecated in 0.22 and will be removed in 0.24.\n",
      "  warnings.warn(\n",
      "C:\\Users\\NewizZ\\miniconda3\\envs\\tutorial\\lib\\site-packages\\sklearn\\model_selection\\_search.py:821: FutureWarning: The parameter 'iid' is deprecated in 0.22 and will be removed in 0.24.\n",
      "  warnings.warn(\n",
      "C:\\Users\\NewizZ\\miniconda3\\envs\\tutorial\\lib\\site-packages\\sklearn\\model_selection\\_search.py:821: FutureWarning: The parameter 'iid' is deprecated in 0.22 and will be removed in 0.24.\n",
      "  warnings.warn(\n",
      "C:\\Users\\NewizZ\\miniconda3\\envs\\tutorial\\lib\\site-packages\\sklearn\\model_selection\\_search.py:821: FutureWarning: The parameter 'iid' is deprecated in 0.22 and will be removed in 0.24.\n",
      "  warnings.warn(\n",
      "C:\\Users\\NewizZ\\miniconda3\\envs\\tutorial\\lib\\site-packages\\sklearn\\model_selection\\_search.py:821: FutureWarning: The parameter 'iid' is deprecated in 0.22 and will be removed in 0.24.\n",
      "  warnings.warn(\n",
      "C:\\Users\\NewizZ\\miniconda3\\envs\\tutorial\\lib\\site-packages\\sklearn\\model_selection\\_search.py:821: FutureWarning: The parameter 'iid' is deprecated in 0.22 and will be removed in 0.24.\n",
      "  warnings.warn(\n",
      "C:\\Users\\NewizZ\\miniconda3\\envs\\tutorial\\lib\\site-packages\\sklearn\\model_selection\\_search.py:821: FutureWarning: The parameter 'iid' is deprecated in 0.22 and will be removed in 0.24.\n",
      "  warnings.warn(\n",
      "C:\\Users\\NewizZ\\miniconda3\\envs\\tutorial\\lib\\site-packages\\sklearn\\model_selection\\_search.py:821: FutureWarning: The parameter 'iid' is deprecated in 0.22 and will be removed in 0.24.\n",
      "  warnings.warn(\n",
      "C:\\Users\\NewizZ\\miniconda3\\envs\\tutorial\\lib\\site-packages\\sklearn\\model_selection\\_search.py:821: FutureWarning: The parameter 'iid' is deprecated in 0.22 and will be removed in 0.24.\n",
      "  warnings.warn(\n",
      "C:\\Users\\NewizZ\\miniconda3\\envs\\tutorial\\lib\\site-packages\\sklearn\\model_selection\\_search.py:821: FutureWarning: The parameter 'iid' is deprecated in 0.22 and will be removed in 0.24.\n",
      "  warnings.warn(\n",
      "C:\\Users\\NewizZ\\miniconda3\\envs\\tutorial\\lib\\site-packages\\sklearn\\model_selection\\_search.py:821: FutureWarning: The parameter 'iid' is deprecated in 0.22 and will be removed in 0.24.\n",
      "  warnings.warn(\n",
      "C:\\Users\\NewizZ\\miniconda3\\envs\\tutorial\\lib\\site-packages\\sklearn\\model_selection\\_search.py:821: FutureWarning: The parameter 'iid' is deprecated in 0.22 and will be removed in 0.24.\n",
      "  warnings.warn(\n",
      "C:\\Users\\NewizZ\\miniconda3\\envs\\tutorial\\lib\\site-packages\\sklearn\\model_selection\\_search.py:821: FutureWarning: The parameter 'iid' is deprecated in 0.22 and will be removed in 0.24.\n",
      "  warnings.warn(\n",
      "C:\\Users\\NewizZ\\miniconda3\\envs\\tutorial\\lib\\site-packages\\sklearn\\model_selection\\_search.py:821: FutureWarning: The parameter 'iid' is deprecated in 0.22 and will be removed in 0.24.\n",
      "  warnings.warn(\n",
      "C:\\Users\\NewizZ\\miniconda3\\envs\\tutorial\\lib\\site-packages\\sklearn\\model_selection\\_search.py:821: FutureWarning: The parameter 'iid' is deprecated in 0.22 and will be removed in 0.24.\n",
      "  warnings.warn(\n",
      "C:\\Users\\NewizZ\\miniconda3\\envs\\tutorial\\lib\\site-packages\\sklearn\\model_selection\\_search.py:821: FutureWarning: The parameter 'iid' is deprecated in 0.22 and will be removed in 0.24.\n",
      "  warnings.warn(\n",
      "C:\\Users\\NewizZ\\miniconda3\\envs\\tutorial\\lib\\site-packages\\sklearn\\model_selection\\_search.py:821: FutureWarning: The parameter 'iid' is deprecated in 0.22 and will be removed in 0.24.\n",
      "  warnings.warn(\n",
      "C:\\Users\\NewizZ\\miniconda3\\envs\\tutorial\\lib\\site-packages\\sklearn\\model_selection\\_search.py:821: FutureWarning: The parameter 'iid' is deprecated in 0.22 and will be removed in 0.24.\n",
      "  warnings.warn(\n"
     ]
    }
   ],
   "source": [
    "! python run-model-train.py"
   ]
  },
  {
   "cell_type": "code",
   "execution_count": 35,
   "metadata": {},
   "outputs": [
    {
     "name": "stdout",
     "output_type": "stream",
     "text": [
      "data\\cs-train\\ts-data\n",
      "... loading ts data from files\n"
     ]
    }
   ],
   "source": [
    "data_dir = os.path.join(\"data\",\"cs-train\")\n",
    "\n",
    "ts_all = fetch_ts(data_dir,clean=False)"
   ]
  },
  {
   "cell_type": "code",
   "execution_count": 36,
   "metadata": {},
   "outputs": [
    {
     "data": {
      "text/plain": [
       "{'all':            date  purchases  unique_invoices  unique_streams  total_views  \\\n",
       " 0    2017-11-01          0                0               0            0   \n",
       " 1    2017-11-02          0                0               0            0   \n",
       " 2    2017-11-03          0                0               0            0   \n",
       " 3    2017-11-04          0                0               0            0   \n",
       " 4    2017-11-05          0                0               0            0   \n",
       " ..          ...        ...              ...             ...          ...   \n",
       " 602  2019-06-26       1358               67             999         6420   \n",
       " 603  2019-06-27       1620               80             944         9435   \n",
       " 604  2019-06-28       1027               70             607         5539   \n",
       " 605  2019-06-29          0                0               0            0   \n",
       " 606  2019-06-30        602               27             423         2534   \n",
       " \n",
       "     year_month  revenue  \n",
       " 0      2017-11     0.00  \n",
       " 1      2017-11     0.00  \n",
       " 2      2017-11     0.00  \n",
       " 3      2017-11     0.00  \n",
       " 4      2017-11     0.00  \n",
       " ..         ...      ...  \n",
       " 602    2019-06  4903.17  \n",
       " 603    2019-06  5499.38  \n",
       " 604    2019-06  3570.60  \n",
       " 605    2019-06     0.00  \n",
       " 606    2019-06  1793.98  \n",
       " \n",
       " [607 rows x 7 columns],\n",
       " 'eire':            date  purchases  unique_invoices  unique_streams  total_views  \\\n",
       " 0    2017-11-01          0                0               0            0   \n",
       " 1    2017-11-02          0                0               0            0   \n",
       " 2    2017-11-03          0                0               0            0   \n",
       " 3    2017-11-04          0                0               0            0   \n",
       " 4    2017-11-05          0                0               0            0   \n",
       " ..          ...        ...              ...             ...          ...   \n",
       " 602  2019-06-26         80                3              78          709   \n",
       " 603  2019-06-27         30                1              30          237   \n",
       " 604  2019-06-28         55                3              54          440   \n",
       " 605  2019-06-29          0                0               0            0   \n",
       " 606  2019-06-30          0                0               0            0   \n",
       " \n",
       "     year_month  revenue  \n",
       " 0      2017-11     0.00  \n",
       " 1      2017-11     0.00  \n",
       " 2      2017-11     0.00  \n",
       " 3      2017-11     0.00  \n",
       " 4      2017-11     0.00  \n",
       " ..         ...      ...  \n",
       " 602    2019-06   253.67  \n",
       " 603    2019-06    92.16  \n",
       " 604    2019-06   295.21  \n",
       " 605    2019-06     0.00  \n",
       " 606    2019-06     0.00  \n",
       " \n",
       " [607 rows x 7 columns],\n",
       " 'france':            date  purchases  unique_invoices  unique_streams  total_views  \\\n",
       " 0    2017-11-01          0                0               0            0   \n",
       " 1    2017-11-02          0                0               0            0   \n",
       " 2    2017-11-03          0                0               0            0   \n",
       " 3    2017-11-04          0                0               0            0   \n",
       " 4    2017-11-05          0                0               0            0   \n",
       " ..          ...        ...              ...             ...          ...   \n",
       " 602  2019-06-26          0                0               0            0   \n",
       " 603  2019-06-27          1                1               1            4   \n",
       " 604  2019-06-28         26                2              25          252   \n",
       " 605  2019-06-29          0                0               0            0   \n",
       " 606  2019-06-30          0                0               0            0   \n",
       " \n",
       "     year_month  revenue  \n",
       " 0      2017-11     0.00  \n",
       " 1      2017-11     0.00  \n",
       " 2      2017-11     0.00  \n",
       " 3      2017-11     0.00  \n",
       " 4      2017-11     0.00  \n",
       " ..         ...      ...  \n",
       " 602    2019-06     0.00  \n",
       " 603    2019-06     1.25  \n",
       " 604    2019-06    79.75  \n",
       " 605    2019-06     0.00  \n",
       " 606    2019-06     0.00  \n",
       " \n",
       " [607 rows x 7 columns],\n",
       " 'germany':            date  purchases  unique_invoices  unique_streams  total_views  \\\n",
       " 0    2017-11-01          0                0               0            0   \n",
       " 1    2017-11-02          0                0               0            0   \n",
       " 2    2017-11-03          0                0               0            0   \n",
       " 3    2017-11-04          0                0               0            0   \n",
       " 4    2017-11-05          0                0               0            0   \n",
       " ..          ...        ...              ...             ...          ...   \n",
       " 602  2019-06-26          0                0               0            0   \n",
       " 603  2019-06-27         62                3              59          614   \n",
       " 604  2019-06-28         10                2              10           52   \n",
       " 605  2019-06-29          0                0               0            0   \n",
       " 606  2019-06-30          0                0               0            0   \n",
       " \n",
       "     year_month  revenue  \n",
       " 0      2017-11     0.00  \n",
       " 1      2017-11     0.00  \n",
       " 2      2017-11     0.00  \n",
       " 3      2017-11     0.00  \n",
       " 4      2017-11     0.00  \n",
       " ..         ...      ...  \n",
       " 602    2019-06     0.00  \n",
       " 603    2019-06   159.78  \n",
       " 604    2019-06    51.89  \n",
       " 605    2019-06     0.00  \n",
       " 606    2019-06     0.00  \n",
       " \n",
       " [607 rows x 7 columns],\n",
       " 'hong_kong':            date  purchases  unique_invoices  unique_streams  total_views  \\\n",
       " 0    2018-04-01          0                0               0            0   \n",
       " 1    2018-04-02          0                0               0            0   \n",
       " 2    2018-04-03          0                0               0            0   \n",
       " 3    2018-04-04          0                0               0            0   \n",
       " 4    2018-04-05          0                0               0            0   \n",
       " ..          ...        ...              ...             ...          ...   \n",
       " 421  2019-05-27          0                0               0            0   \n",
       " 422  2019-05-28          0                0               0            0   \n",
       " 423  2019-05-29          0                0               0            0   \n",
       " 424  2019-05-30          0                0               0            0   \n",
       " 425  2019-05-31          0                0               0            0   \n",
       " \n",
       "     year_month  revenue  \n",
       " 0      2018-04      0.0  \n",
       " 1      2018-04      0.0  \n",
       " 2      2018-04      0.0  \n",
       " 3      2018-04      0.0  \n",
       " 4      2018-04      0.0  \n",
       " ..         ...      ...  \n",
       " 421    2019-05      0.0  \n",
       " 422    2019-05      0.0  \n",
       " 423    2019-05      0.0  \n",
       " 424    2019-05      0.0  \n",
       " 425    2019-05      0.0  \n",
       " \n",
       " [426 rows x 7 columns],\n",
       " 'netherlands':            date  purchases  unique_invoices  unique_streams  total_views  \\\n",
       " 0    2017-11-01          0                0               0            0   \n",
       " 1    2017-11-02          0                0               0            0   \n",
       " 2    2017-11-03          0                0               0            0   \n",
       " 3    2017-11-04          0                0               0            0   \n",
       " 4    2017-11-05          0                0               0            0   \n",
       " ..          ...        ...              ...             ...          ...   \n",
       " 602  2019-06-26          0                0               0            0   \n",
       " 603  2019-06-27          0                0               0            0   \n",
       " 604  2019-06-28          0                0               0            0   \n",
       " 605  2019-06-29          0                0               0            0   \n",
       " 606  2019-06-30          0                0               0            0   \n",
       " \n",
       "     year_month  revenue  \n",
       " 0      2017-11      0.0  \n",
       " 1      2017-11      0.0  \n",
       " 2      2017-11      0.0  \n",
       " 3      2017-11      0.0  \n",
       " 4      2017-11      0.0  \n",
       " ..         ...      ...  \n",
       " 602    2019-06      0.0  \n",
       " 603    2019-06      0.0  \n",
       " 604    2019-06      0.0  \n",
       " 605    2019-06      0.0  \n",
       " 606    2019-06      0.0  \n",
       " \n",
       " [607 rows x 7 columns],\n",
       " 'norway':            date  purchases  unique_invoices  unique_streams  total_views  \\\n",
       " 0    2017-12-01          0                0               0            0   \n",
       " 1    2017-12-02          0                0               0            0   \n",
       " 2    2017-12-03          0                0               0            0   \n",
       " 3    2017-12-04         21                1              21          175   \n",
       " 4    2017-12-05          0                0               0            0   \n",
       " ..          ...        ...              ...             ...          ...   \n",
       " 572  2019-06-26          0                0               0            0   \n",
       " 573  2019-06-27          0                0               0            0   \n",
       " 574  2019-06-28          0                0               0            0   \n",
       " 575  2019-06-29          0                0               0            0   \n",
       " 576  2019-06-30          0                0               0            0   \n",
       " \n",
       "     year_month  revenue  \n",
       " 0      2017-12     0.00  \n",
       " 1      2017-12     0.00  \n",
       " 2      2017-12     0.00  \n",
       " 3      2017-12   123.28  \n",
       " 4      2017-12     0.00  \n",
       " ..         ...      ...  \n",
       " 572    2019-06     0.00  \n",
       " 573    2019-06     0.00  \n",
       " 574    2019-06     0.00  \n",
       " 575    2019-06     0.00  \n",
       " 576    2019-06     0.00  \n",
       " \n",
       " [577 rows x 7 columns],\n",
       " 'portugal':            date  purchases  unique_invoices  unique_streams  total_views  \\\n",
       " 0    2017-11-01          0                0               0            0   \n",
       " 1    2017-11-02          0                0               0            0   \n",
       " 2    2017-11-03          0                0               0            0   \n",
       " 3    2017-11-04          0                0               0            0   \n",
       " 4    2017-11-05          0                0               0            0   \n",
       " ..          ...        ...              ...             ...          ...   \n",
       " 602  2019-06-26          0                0               0            0   \n",
       " 603  2019-06-27          0                0               0            0   \n",
       " 604  2019-06-28          0                0               0            0   \n",
       " 605  2019-06-29          0                0               0            0   \n",
       " 606  2019-06-30          0                0               0            0   \n",
       " \n",
       "     year_month  revenue  \n",
       " 0      2017-11      0.0  \n",
       " 1      2017-11      0.0  \n",
       " 2      2017-11      0.0  \n",
       " 3      2017-11      0.0  \n",
       " 4      2017-11      0.0  \n",
       " ..         ...      ...  \n",
       " 602    2019-06      0.0  \n",
       " 603    2019-06      0.0  \n",
       " 604    2019-06      0.0  \n",
       " 605    2019-06      0.0  \n",
       " 606    2019-06      0.0  \n",
       " \n",
       " [607 rows x 7 columns],\n",
       " 'singapore':            date  purchases  unique_invoices  unique_streams  total_views  \\\n",
       " 0    2018-04-01          0                0               0            0   \n",
       " 1    2018-04-02          0                0               0            0   \n",
       " 2    2018-04-03          0                0               0            0   \n",
       " 3    2018-04-04          0                0               0            0   \n",
       " 4    2018-04-05          0                0               0            0   \n",
       " ..          ...        ...              ...             ...          ...   \n",
       " 451  2019-06-26          0                0               0            0   \n",
       " 452  2019-06-27          0                0               0            0   \n",
       " 453  2019-06-28          0                0               0            0   \n",
       " 454  2019-06-29          0                0               0            0   \n",
       " 455  2019-06-30          0                0               0            0   \n",
       " \n",
       "     year_month  revenue  \n",
       " 0      2018-04      0.0  \n",
       " 1      2018-04      0.0  \n",
       " 2      2018-04      0.0  \n",
       " 3      2018-04      0.0  \n",
       " 4      2018-04      0.0  \n",
       " ..         ...      ...  \n",
       " 451    2019-06      0.0  \n",
       " 452    2019-06      0.0  \n",
       " 453    2019-06      0.0  \n",
       " 454    2019-06      0.0  \n",
       " 455    2019-06      0.0  \n",
       " \n",
       " [456 rows x 7 columns],\n",
       " 'spain':            date  purchases  unique_invoices  unique_streams  total_views  \\\n",
       " 0    2017-11-01          0                0               0            0   \n",
       " 1    2017-11-02          0                0               0            0   \n",
       " 2    2017-11-03          0                0               0            0   \n",
       " 3    2017-11-04          0                0               0            0   \n",
       " 4    2017-11-05          0                0               0            0   \n",
       " ..          ...        ...              ...             ...          ...   \n",
       " 602  2019-06-26          0                0               0            0   \n",
       " 603  2019-06-27          0                0               0            0   \n",
       " 604  2019-06-28          0                0               0            0   \n",
       " 605  2019-06-29          0                0               0            0   \n",
       " 606  2019-06-30          0                0               0            0   \n",
       " \n",
       "     year_month  revenue  \n",
       " 0      2017-11      0.0  \n",
       " 1      2017-11      0.0  \n",
       " 2      2017-11      0.0  \n",
       " 3      2017-11      0.0  \n",
       " 4      2017-11      0.0  \n",
       " ..         ...      ...  \n",
       " 602    2019-06      0.0  \n",
       " 603    2019-06      0.0  \n",
       " 604    2019-06      0.0  \n",
       " 605    2019-06      0.0  \n",
       " 606    2019-06      0.0  \n",
       " \n",
       " [607 rows x 7 columns],\n",
       " 'united_kingdom':            date  purchases  unique_invoices  unique_streams  total_views  \\\n",
       " 0    2017-11-01          0                0               0            0   \n",
       " 1    2017-11-02          0                0               0            0   \n",
       " 2    2017-11-03          0                0               0            0   \n",
       " 3    2017-11-04          0                0               0            0   \n",
       " 4    2017-11-05          0                0               0            0   \n",
       " ..          ...        ...              ...             ...          ...   \n",
       " 602  2019-06-26       1274               62             965         5702   \n",
       " 603  2019-06-27       1487               72             897         8230   \n",
       " 604  2019-06-28        923               62             565         4674   \n",
       " 605  2019-06-29          0                0               0            0   \n",
       " 606  2019-06-30        602               27             423         2534   \n",
       " \n",
       "     year_month  revenue  \n",
       " 0      2017-11     0.00  \n",
       " 1      2017-11     0.00  \n",
       " 2      2017-11     0.00  \n",
       " 3      2017-11     0.00  \n",
       " 4      2017-11     0.00  \n",
       " ..         ...      ...  \n",
       " 602    2019-06  4611.00  \n",
       " 603    2019-06  5128.02  \n",
       " 604    2019-06  3096.20  \n",
       " 605    2019-06     0.00  \n",
       " 606    2019-06  1793.98  \n",
       " \n",
       " [607 rows x 7 columns]}"
      ]
     },
     "execution_count": 36,
     "metadata": {},
     "output_type": "execute_result"
    }
   ],
   "source": [
    "ts_all"
   ]
  },
  {
   "cell_type": "code",
   "execution_count": 37,
   "metadata": {},
   "outputs": [],
   "source": [
    "X,y,dates = engineer_features(ts_all['all'])\n",
    "        \n",
    "## Perform a train-test split\n",
    "X_train, X_test, y_train, y_test = train_test_split(X, y, test_size=0.25, shuffle=True, random_state=42)"
   ]
  },
  {
   "cell_type": "code",
   "execution_count": 38,
   "metadata": {},
   "outputs": [
    {
     "name": "stderr",
     "output_type": "stream",
     "text": [
      "C:\\Users\\NewizZ\\miniconda3\\envs\\tutorial\\lib\\site-packages\\sklearn\\model_selection\\_search.py:821: FutureWarning: The parameter 'iid' is deprecated in 0.22 and will be removed in 0.24.\n",
      "  warnings.warn(\n"
     ]
    },
    {
     "name": "stdout",
     "output_type": "stream",
     "text": [
      "train time =  00:00:05\n",
      "mae = 11348\n",
      "mse = 262818322\n",
      "r2_score = 0.960\n",
      "best params = {'rf__criterion': 'mse', 'rf__n_estimators': 100}\n"
     ]
    }
   ],
   "source": [
    "param_grid_rf = {\n",
    "    'rf__criterion': ['mse','mae'],\n",
    "    'rf__n_estimators': [10,15,20,25,50,100]\n",
    "    }\n",
    "\n",
    "time_start = time.time()\n",
    "pipe_rf = Pipeline(steps=[('scaler', StandardScaler()), ('rf', RandomForestRegressor())])\n",
    "\n",
    "grid = GridSearchCV(pipe_rf, param_grid=param_grid_rf, cv=5, iid=False, n_jobs=-1)\n",
    "grid.fit(X_train, y_train)\n",
    "y_pred = grid.predict(X_test)\n",
    "\n",
    "rf_mae =  mean_absolute_error(y_test, y_pred)\n",
    "rf_mse =  mean_squared_error(y_test, y_pred)\n",
    "rf_r2_score = r2_score(y_test, y_pred)\n",
    "\n",
    "print(\"train time = \", time.strftime('%H:%M:%S', time.gmtime(time.time()-time_start)))\n",
    "print(\"mae = {:.0f}\".format(rf_mae))\n",
    "print(\"mse = {:.0f}\".format(rf_mse))\n",
    "print(\"r2_score = {:.3f}\".format(rf_r2_score))\n",
    "print(\"best params =\", grid.best_params_)"
   ]
  },
  {
   "cell_type": "code",
   "execution_count": 39,
   "metadata": {},
   "outputs": [
    {
     "name": "stderr",
     "output_type": "stream",
     "text": [
      "C:\\Users\\NewizZ\\miniconda3\\envs\\tutorial\\lib\\site-packages\\sklearn\\model_selection\\_search.py:821: FutureWarning: The parameter 'iid' is deprecated in 0.22 and will be removed in 0.24.\n",
      "  warnings.warn(\n"
     ]
    },
    {
     "name": "stdout",
     "output_type": "stream",
     "text": [
      "train time =  00:00:02\n",
      "mae = 11868\n",
      "mse = 294755145\n",
      "r2_score = 0.955\n",
      "best params = {'rf__criterion': 'mse', 'rf__n_estimators': 100}\n"
     ]
    }
   ],
   "source": [
    "param_grid_rf = {\n",
    "    'rf__criterion': ['mse','mae'],\n",
    "    'rf__n_estimators': [10,15,20,25,50,100]\n",
    "    }\n",
    "\n",
    "time_start = time.time()\n",
    "pipe_rf = Pipeline(steps=[('scaler', StandardScaler()), ('rf', RandomForestRegressor())])\n",
    "\n",
    "grid = GridSearchCV(pipe_rf, param_grid=param_grid_rf, cv=5, iid=False, n_jobs=-1)\n",
    "grid.fit(X_train, y_train)\n",
    "y_pred = grid.predict(X_test)\n",
    "\n",
    "rf_mae =  mean_absolute_error(y_test, y_pred)\n",
    "rf_mse =  mean_squared_error(y_test, y_pred)\n",
    "rf_r2_score = r2_score(y_test, y_pred)\n",
    "\n",
    "print(\"train time = \", time.strftime('%H:%M:%S', time.gmtime(time.time()-time_start)))\n",
    "print(\"mae = {:.0f}\".format(rf_mae))\n",
    "print(\"mse = {:.0f}\".format(rf_mse))\n",
    "print(\"r2_score = {:.3f}\".format(rf_r2_score))\n",
    "print(\"best params =\", grid.best_params_)"
   ]
  },
  {
   "cell_type": "code",
   "execution_count": 40,
   "metadata": {},
   "outputs": [
    {
     "name": "stdout",
     "output_type": "stream",
     "text": [
      "train time =  00:00:02\n",
      "mae = 16209\n",
      "mse = 459616927\n",
      "r2_score = 0.930\n",
      "best params = {'gb__criterion': 'mse', 'gb__n_estimators': 100}\n"
     ]
    },
    {
     "name": "stderr",
     "output_type": "stream",
     "text": [
      "C:\\Users\\NewizZ\\miniconda3\\envs\\tutorial\\lib\\site-packages\\sklearn\\model_selection\\_search.py:821: FutureWarning: The parameter 'iid' is deprecated in 0.22 and will be removed in 0.24.\n",
      "  warnings.warn(\n"
     ]
    }
   ],
   "source": [
    "param_grid_gb = {\n",
    "    'gb__criterion': ['mse','mae'],\n",
    "    'gb__n_estimators': [10,15,20,25,50,100]\n",
    "    }\n",
    "\n",
    "time_start = time.time()\n",
    "pipe_gb = Pipeline(steps=[('scaler', StandardScaler()), ('gb', GradientBoostingRegressor())])\n",
    "\n",
    "grid = GridSearchCV(pipe_gb, param_grid=param_grid_gb, cv=5, iid=False, n_jobs=-1)\n",
    "grid.fit(X_train, y_train)\n",
    "y_pred = grid.predict(X_test)\n",
    "\n",
    "gb_mae =  mean_absolute_error(y_test, y_pred)\n",
    "gb_mse =  mean_squared_error(y_test, y_pred)\n",
    "gb_r2_score = r2_score(y_test, y_pred)\n",
    "\n",
    "print(\"train time = \", time.strftime('%H:%M:%S', time.gmtime(time.time()-time_start)))\n",
    "print(\"mae = {:.0f}\".format(gb_mae))\n",
    "print(\"mse = {:.0f}\".format(gb_mse))\n",
    "print(\"r2_score = {:.3f}\".format(gb_r2_score))\n",
    "print(\"best params =\", grid.best_params_)"
   ]
  },
  {
   "cell_type": "code",
   "execution_count": 41,
   "metadata": {},
   "outputs": [
    {
     "name": "stdout",
     "output_type": "stream",
     "text": [
      "train time =  00:00:02\n",
      "mae = 16443\n",
      "mse = 471243254\n",
      "r2_score = 0.928\n",
      "best params = {'gb__criterion': 'mse', 'gb__n_estimators': 100}\n"
     ]
    },
    {
     "name": "stderr",
     "output_type": "stream",
     "text": [
      "C:\\Users\\NewizZ\\miniconda3\\envs\\tutorial\\lib\\site-packages\\sklearn\\model_selection\\_search.py:821: FutureWarning: The parameter 'iid' is deprecated in 0.22 and will be removed in 0.24.\n",
      "  warnings.warn(\n"
     ]
    }
   ],
   "source": [
    "param_grid_gb = {\n",
    "    'gb__criterion': ['mse','mae'],\n",
    "    'gb__n_estimators': [10,15,20,25,50,100]\n",
    "    }\n",
    "\n",
    "time_start = time.time()\n",
    "pipe_gb = Pipeline(steps=[('scaler', StandardScaler()), ('gb', GradientBoostingRegressor())])\n",
    "\n",
    "grid = GridSearchCV(pipe_gb, param_grid=param_grid_gb, cv=5, iid=False, n_jobs=-1)\n",
    "grid.fit(X_train, y_train)\n",
    "y_pred = grid.predict(X_test)\n",
    "\n",
    "gb_mae =  mean_absolute_error(y_test, y_pred)\n",
    "gb_mse =  mean_squared_error(y_test, y_pred)\n",
    "gb_r2_score = r2_score(y_test, y_pred)\n",
    "\n",
    "print(\"train time = \", time.strftime('%H:%M:%S', time.gmtime(time.time()-time_start)))\n",
    "print(\"mae = {:.0f}\".format(gb_mae))\n",
    "print(\"mse = {:.0f}\".format(gb_mse))\n",
    "print(\"r2_score = {:.3f}\".format(gb_r2_score))\n",
    "print(\"best params =\", grid.best_params_)"
   ]
  },
  {
   "cell_type": "code",
   "execution_count": 42,
   "metadata": {},
   "outputs": [
    {
     "name": "stdout",
     "output_type": "stream",
     "text": [
      "train time =  00:00:00\n",
      "mae = 11998\n",
      "mse = 400134904\n",
      "r2_score = 0.939\n",
      "best params = {'dt__criterion': 'mse', 'dt__max_depth': 50, 'dt__min_samples_leaf': 2}\n"
     ]
    },
    {
     "name": "stderr",
     "output_type": "stream",
     "text": [
      "C:\\Users\\NewizZ\\miniconda3\\envs\\tutorial\\lib\\site-packages\\sklearn\\model_selection\\_search.py:821: FutureWarning: The parameter 'iid' is deprecated in 0.22 and will be removed in 0.24.\n",
      "  warnings.warn(\n"
     ]
    }
   ],
   "source": [
    "param_grid_dt = {\n",
    "    'dt__criterion': ['mse','mae'],\n",
    "    'dt__max_depth': [5,10,20,50],\n",
    "    'dt__min_samples_leaf': [1,2,3,4,5]\n",
    "    }\n",
    "\n",
    "time_start = time.time()\n",
    "pipe_ts = Pipeline(steps=[('scaler', StandardScaler()), ('dt', DecisionTreeRegressor())])\n",
    "\n",
    "grid = GridSearchCV(pipe_ts, param_grid=param_grid_dt, cv=5, iid=False, n_jobs=-1)\n",
    "grid.fit(X_train, y_train)\n",
    "y_pred = grid.predict(X_test)\n",
    "\n",
    "dt_mae =  mean_absolute_error(y_test, y_pred)\n",
    "dt_mse =  mean_squared_error(y_test, y_pred)\n",
    "dt_r2_score = r2_score(y_test, y_pred)\n",
    "\n",
    "print(\"train time = \", time.strftime('%H:%M:%S', time.gmtime(time.time()-time_start)))\n",
    "print(\"mae = {:.0f}\".format(dt_mae))\n",
    "print(\"mse = {:.0f}\".format(dt_mse))\n",
    "print(\"r2_score = {:.3f}\".format(dt_r2_score))\n",
    "print(\"best params =\", grid.best_params_)"
   ]
  },
  {
   "cell_type": "code",
   "execution_count": 43,
   "metadata": {},
   "outputs": [
    {
     "name": "stdout",
     "output_type": "stream",
     "text": [
      "train time =  00:00:00\n",
      "mae = 12476\n",
      "mse = 448740966\n",
      "r2_score = 0.932\n",
      "best params = {'dt__criterion': 'mse', 'dt__max_depth': 50, 'dt__min_samples_leaf': 2}\n"
     ]
    },
    {
     "name": "stderr",
     "output_type": "stream",
     "text": [
      "C:\\Users\\NewizZ\\miniconda3\\envs\\tutorial\\lib\\site-packages\\sklearn\\model_selection\\_search.py:821: FutureWarning: The parameter 'iid' is deprecated in 0.22 and will be removed in 0.24.\n",
      "  warnings.warn(\n"
     ]
    }
   ],
   "source": [
    "param_grid_dt = {\n",
    "    'dt__criterion': ['mse','mae'],\n",
    "    'dt__max_depth': [5,10,20,50],\n",
    "    'dt__min_samples_leaf': [1,2,3,4,5]\n",
    "    }\n",
    "\n",
    "time_start = time.time()\n",
    "pipe_ts = Pipeline(steps=[('scaler', StandardScaler()), ('dt', DecisionTreeRegressor())])\n",
    "\n",
    "grid = GridSearchCV(pipe_ts, param_grid=param_grid_dt, cv=5, iid=False, n_jobs=-1)\n",
    "grid.fit(X_train, y_train)\n",
    "y_pred = grid.predict(X_test)\n",
    "\n",
    "dt_mae =  mean_absolute_error(y_test, y_pred)\n",
    "dt_mse =  mean_squared_error(y_test, y_pred)\n",
    "dt_r2_score = r2_score(y_test, y_pred)\n",
    "\n",
    "print(\"train time = \", time.strftime('%H:%M:%S', time.gmtime(time.time()-time_start)))\n",
    "print(\"mae = {:.0f}\".format(dt_mae))\n",
    "print(\"mse = {:.0f}\".format(dt_mse))\n",
    "print(\"r2_score = {:.3f}\".format(dt_r2_score))\n",
    "print(\"best params =\", grid.best_params_)"
   ]
  },
  {
   "cell_type": "code",
   "execution_count": null,
   "metadata": {},
   "outputs": [],
   "source": []
  }
 ],
 "metadata": {
  "kernelspec": {
   "display_name": "Python 3",
   "language": "python",
   "name": "python3"
  },
  "language_info": {
   "codemirror_mode": {
    "name": "ipython",
    "version": 3
   },
   "file_extension": ".py",
   "mimetype": "text/x-python",
   "name": "python",
   "nbconvert_exporter": "python",
   "pygments_lexer": "ipython3",
   "version": "3.8.1"
  }
 },
 "nbformat": 4,
 "nbformat_minor": 4
}
